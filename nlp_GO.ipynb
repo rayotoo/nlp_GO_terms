{
  "nbformat": 4,
  "nbformat_minor": 0,
  "metadata": {
    "colab": {
      "name": "nlp_GO.ipynb",
      "provenance": [],
      "collapsed_sections": [],
      "authorship_tag": "ABX9TyOkXgPsppIy3d5Z+sUyTAYn",
      "include_colab_link": true
    },
    "kernelspec": {
      "name": "python3",
      "display_name": "Python 3"
    },
    "language_info": {
      "name": "python"
    }
  },
  "cells": [
    {
      "cell_type": "markdown",
      "metadata": {
        "id": "view-in-github",
        "colab_type": "text"
      },
      "source": [
        "<a href=\"https://colab.research.google.com/github/rayotoo/nlp_GO_terms/blob/main/nlp_GO.ipynb\" target=\"_parent\"><img src=\"https://colab.research.google.com/assets/colab-badge.svg\" alt=\"Open In Colab\"/></a>"
      ]
    },
    {
      "cell_type": "code",
      "execution_count": null,
      "metadata": {
        "id": "HTTna5SrZzTG"
      },
      "outputs": [],
      "source": [
        "pip install sentence_transformers"
      ]
    },
    {
      "cell_type": "code",
      "source": [
        "from sentence_transformers import SentenceTransformer\n",
        "from sklearn.cluster import KMeans"
      ],
      "metadata": {
        "id": "cyCF1DltZ2zs"
      },
      "execution_count": 4,
      "outputs": []
    },
    {
      "cell_type": "code",
      "source": [
        "#import required libraries\n",
        "import os\n",
        "import pandas as pd"
      ],
      "metadata": {
        "id": "KT-Mx0fKaIYO"
      },
      "execution_count": 5,
      "outputs": []
    },
    {
      "cell_type": "code",
      "source": [
        "#This file contains all of the GO biological process annotatations.  Some are missing GO ID's,these exist in UniProt but are depricated in GO. \n",
        "#There is a need to curate and update these annotations. Each row consists of a single GO annotation, its go id, the type of relationship it has to its parent term(s), and a pipe '|' delimited list of parent GO Id's \n",
        "GO_BiologicalProcess_GO_Relationships_20220615 = pd.read_csv('GO_BiologicalProcess_GO_Relationships_20220615.csv')\n",
        "GO_BiologicalProcess_GO_Relationships_20220615"
      ],
      "metadata": {
        "id": "NC24TzYnaxZ8"
      },
      "execution_count": null,
      "outputs": []
    },
    {
      "cell_type": "code",
      "source": [
        "#Using main list of GO terms\n",
        "GO_BiologicalProcess_GO_Relationships_20220615"
      ],
      "metadata": {
        "id": "ZkvD2oE6azbq"
      },
      "execution_count": null,
      "outputs": []
    },
    {
      "cell_type": "code",
      "source": [
        "GO_terms_list = GO_BiologicalProcess_GO_Relationships_20220615['go_name'].tolist()\n",
        "GO_terms_list"
      ],
      "metadata": {
        "id": "QSnbXio2a4nD"
      },
      "execution_count": null,
      "outputs": []
    },
    {
      "cell_type": "code",
      "source": [
        "embedder = SentenceTransformer('distilbert-base-nli-stsb-mean-tokens')"
      ],
      "metadata": {
        "id": "-ts0M3Mfa9i8"
      },
      "execution_count": null,
      "outputs": []
    },
    {
      "cell_type": "markdown",
      "source": [
        "# Took 12 mins to run. Probably because I was using colab's server."
      ],
      "metadata": {
        "id": "sVUM104reJDI"
      }
    },
    {
      "cell_type": "code",
      "source": [
        "corpus_embeddings = embedder.encode(GO_terms_list)"
      ],
      "metadata": {
        "id": "RN7r9S0nbOhx"
      },
      "execution_count": 10,
      "outputs": []
    },
    {
      "cell_type": "code",
      "source": [
        "from sklearn.cluster import KMeans\n",
        "num_clusters = 8\n",
        "\n",
        "# Define kmeans model\n",
        "clustering_model = KMeans(n_clusters=num_clusters)"
      ],
      "metadata": {
        "id": "O80-XMFYeN0t"
      },
      "execution_count": 19,
      "outputs": []
    },
    {
      "cell_type": "code",
      "source": [
        "# Fit the embedding with kmeans clustering.\n",
        "clustering_model.fit(corpus_embeddings)\n",
        "# Get the cluster id assigned to each GO term.\n",
        "cluster_assignment = clustering_model.labels_"
      ],
      "metadata": {
        "id": "iSQqy7V8eaWm"
      },
      "execution_count": 20,
      "outputs": []
    },
    {
      "cell_type": "code",
      "source": [
        "print(cluster_assignment)"
      ],
      "metadata": {
        "colab": {
          "base_uri": "https://localhost:8080/"
        },
        "id": "O4nA4TmoeoNq",
        "outputId": "d6e97e93-1770-467f-be9f-920c2a5e1fa1"
      },
      "execution_count": 21,
      "outputs": [
        {
          "output_type": "stream",
          "name": "stdout",
          "text": [
            "[0 1 1 ... 7 1 7]\n"
          ]
        }
      ]
    },
    {
      "cell_type": "code",
      "source": [
        "clustered_sentences = [[] for i in range(num_clusters)]\n",
        "for sentence_id, cluster_id in enumerate(cluster_assignment):\n",
        "    clustered_sentences[cluster_id].append(GO_terms_list[sentence_id])\n",
        "\n",
        "\n",
        "for i, cluster in enumerate(clustered_sentences):\n",
        "    print(\"Cluster \", i+1)\n",
        "    print(cluster)\n",
        "    print(\"\")"
      ],
      "metadata": {
        "id": "bDpEEnfnevMY"
      },
      "execution_count": null,
      "outputs": []
    }
  ]
}